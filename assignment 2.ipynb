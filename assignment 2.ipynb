{
 "cells": [
  {
   "cell_type": "code",
   "execution_count": null,
   "id": "432da4f0-ad7a-44fb-bce1-ff4896eff874",
   "metadata": {},
   "outputs": [],
   "source": [
    "1. What is data structures, and why are they important?\n",
    "ANS- Data structures are ways of storing and organizing data in a computer so it can be used efficiently.\n",
    "   # Why are They Important?\n",
    "\n",
    "Efficiency: Makes searching, sorting, and updating data faster.\n",
    "\n",
    "Memory management: Stores data in an organized and compact way.\n",
    "\n",
    "Reusability: Same structure can be used in many programs.\n",
    "\n",
    "Scalability: Handles large and complex data easily.\n",
    "\n",
    "Problem-solving: Essential for algorithms in real-world applications (e.g., Google Maps uses graphs).\n",
    "\n",
    "2. Expalin the difference between the mutable and immutable data types with examples.\n",
    "ANS- 1. Mutable Data Types\n",
    "\n",
    "Definition: Data types whose values can be changed/modified after creation.\n",
    "\n",
    "You can add, remove, or update elements without creating a new object.\n",
    "\n",
    "Examples in Python:\n",
    "\n",
    "List → [1, 2, 3]\n",
    "\n",
    "Dictionary → {\"name\": \"Raj\", \"age\": 21}\n",
    "\n",
    "Set → {10, 20, 30}\n",
    "\n",
    "2. Immutable Data Types\n",
    "\n",
    "Definition: Data types whose values cannot be changed after creation.\n",
    "\n",
    "If you try to modify, a new object is created instead of changing the old one.\n",
    "\n",
    "Examples in Python:\n",
    "\n",
    "Tuple → (1, 2, 3)\n",
    "\n",
    "String → \"hello\"\n",
    "\n",
    "Integer → 10\n",
    "\n",
    "Float → 3.14\n",
    "\n",
    "3. What are the main differnce between lists and tuples in python?\n",
    "ANS- 1. Mutability\n",
    "\n",
    "List → Mutable (you can change, add, remove elements)\n",
    "\n",
    "Tuple → Immutable (cannot change once created)\n",
    "\n",
    " 2. Syntax\n",
    "\n",
    "List → Created with square brackets [ ]\n",
    "\n",
    "Tuple → Created with parentheses ( )\n",
    "\n",
    "4. Describe how dictionaries strore data.\n",
    "ANS - #A dictionary in Python is a collection of key–value pairs.\n",
    "\n",
    "Each key must be unique and immutable (like a string, number, or tuple).\n",
    "\n",
    "Each value can be of any data type (list, string, int, another dict, etc.).\n",
    "    #Collisions\n",
    "\n",
    "Sometimes two different keys may produce the same hash value → this is called a collision.\n",
    "\n",
    "Python handles collisions using open addressing / probing (tries the next available slot).\n",
    "\n",
    "5. Why might you use a set instead of a list in Python?\n",
    "ANS - #Uniqueness of Elements\n",
    "\n",
    "Set automatically removes duplicate values.\n",
    "\n",
    "List allows duplicates.\n",
    "    #Mathematical Operations\n",
    "\n",
    "Set supports operations like union, intersection, difference (like in math).\n",
    "\n",
    "List does not directly support these.\n",
    "\n",
    "6. What is a string in Python, and how is it different from a list?\n",
    "ANS-  A string is a sequence of characters enclosed in quotes (' ' or \" \").\n",
    "      Strings are used to store text.\n",
    "    In string sequence of Character , in  list sequence of elements.\n",
    "    String is immutable but list are mutable.\n",
    "    String enclosed with ' ',\" \", but list enclosed with [ ].\n",
    "\n",
    "7. How do tuples ensure data integrity in Python?\n",
    "ANS - 1. Immutability\n",
    "\n",
    "A tuple is immutable → once created, its elements cannot be changed, added, or removed.\n",
    "\n",
    "This immutability protects the data from accidental modification.\n",
    "     2. Reliability in Fixed Data\n",
    "\n",
    "Tuples are often used when you want to represent constant collections of values (like coordinates, RGB colors, or database records).\n",
    "\n",
    "Since values cannot change, the data remains stable and consistent throughout the program.\n",
    "\n",
    "8. What is a hash table , and how does it relate to dictionaries in Python?\n",
    "ANS - A hash table is a data structure that stores data in key–value pairs.\n",
    "\n",
    "It uses a hash function to convert a key into an integer (called a hash value).\n",
    "\n",
    "This hash value determines the index (or bucket) where the value is stored.\n",
    "\n",
    "Because of hashing, lookup, insertion, and deletion operations are usually very fast (O(1) on average).\n",
    "\n",
    "#Relation to Dictionaries in Python\n",
    "\n",
    "In Python, a dictionary (dict) is implemented using a hash table.\n",
    "\n",
    "Each dictionary entry is stored as a key–value pair inside a hash table.\n",
    "\n",
    "The key is hashed to find where the value should go.\n",
    "\n",
    "When you search for a key, Python recomputes its hash → goes straight to the location → fetches the value.\n",
    "\n",
    "9. Can lists contain different data types in Python?\n",
    "ANS- Yes, Python lists are heterogeneous, which means a single list can store elements of different data types.\n",
    "\n",
    "10. Expalin why string are immutable in python.\n",
    "ANS- #Reasons for String Immutability\n",
    "\n",
    "1.Memory Efficiency\n",
    "\n",
    "Immutable objects can be shared safely.\n",
    "\n",
    "Python can store only one copy of a string used in multiple places → saves memory.\n",
    "\n",
    "2.Hashing & Dictionary Keys\n",
    "\n",
    "Strings are often used as keys in dictionaries or elements in sets.\n",
    "\n",
    "If strings were mutable, their hash value could change → would break dictionary/set lookups.\n",
    "\n",
    "11. What advantage do dictionaries offer over lists for certain tasks?\n",
    "ANS - #Advantages of Dictionaries over Lists\n",
    "\n",
    "Dictionaries in Python are key–value pairs, while lists are ordered sequences. This makes dictionaries better than lists for certain tasks:\n",
    "\n",
    "1. Fast Lookup\n",
    "\n",
    "Dictionaries use a hash table, so searching for a key is O(1) on average.\n",
    "\n",
    "Lists require scanning all elements → O(n) time for searching.\n",
    "2. Suitable for Complex Data\n",
    "\n",
    "Dictionaries are ideal when you have structured data, like JSON or database records.\n",
    "\n",
    "Lists are better for sequences or collections, not key-based access.\n",
    "\n",
    "12. Describe a scenario where using a tuple would be preferable over a list.\n",
    "ANS- Reason: Tuples are immutable (cannot be changed), while lists are mutable.\n",
    "\n",
    "This makes tuples safer for fixed data that shouldn’t be modified accidentally.\n",
    "\n",
    "13. How do sets handle duplicate values in Python?\n",
    "ANS- #Definition of a Set\n",
    "\n",
    "A set is an unordered collection of unique elements.\n",
    "\n",
    "Sets automatically remove duplicate values.\n",
    "\n",
    "    # Creating a set with duplicates\n",
    "my_set = {1, 2, 2, 3, 4, 4, 5}\n",
    "print(my_set) \n",
    "  OUTPUT- {1,2,3,4,5}\n",
    "\n",
    "14. How does the \"in\" keyword work differently for lists and dictionaries?\n",
    "ANS - The in Keyword in Python\n",
    "\n",
    "The in keyword is used to check membership (whether an item exists in a collection).\n",
    "However, it works differently for lists and dictionaries.\n",
    "\n",
    "1. Lists\n",
    "\n",
    "Lists are ordered sequences.\n",
    "\n",
    "in checks whether the value exists anywhere in the list.\n",
    "\n",
    "Search time: O(n) → Python may need to check each element.\n",
    "\n",
    "my_list = [10, 20, 30, 40]\n",
    "print(20 in my_list)  # True\n",
    "print(50 in my_list)  # False\n",
    "\n",
    "2. Dictionaries\n",
    "\n",
    "Dictionaries are key–value pairs.\n",
    "\n",
    "in only checks keys, not values.\n",
    "\n",
    "Search time: O(1) average → very fast, because dictionaries use hash tables.\n",
    "\n",
    "my_dict = {\"name\": \"Rajvardhan\", \"age\": 25}\n",
    "\n",
    "print(\"name\" in my_dict)   # True\n",
    "print(\"Rajvardhan\" in my_dict)  # False (value is not checked)\n",
    "\n",
    "15. Can you modify the elements of a tuple? Expalin why are why not?\n",
    "ANS - You cannot modify tuple elements directly because tuples are immutable.\n",
    "\n",
    "Immutability ensures data integrity, performance, and safe usage as dictionary keys.\n",
    "\n",
    "Mutable objects inside a tuple can still be changed, but the tuple’s overall structure remains fixed.\n",
    "\n",
    "16. What is nested dictionary, and give an exampke of its use case?\n",
    "ANS - A nested dictionary is a dictionary inside another dictionary.\n",
    "\n",
    "Each key in the outer dictionary can map to a value that is itself a dictionary.\n",
    "\n",
    "Useful for storing structured or hierarchical data.\n",
    "\n",
    "student = {\n",
    "    \"101\": {\"name\": \"ANKIT\", \"age\": 20, \"marks\": 85},\n",
    "    \"102\": {\"name\": \"RAJVARDHAN\", \"age\": 21, \"marks\": 90}\n",
    "}\n",
    "\n",
    "# Accessing nested data\n",
    "print(student[\"101\"][\"name\"])   # ANKIT\n",
    "print(student[\"102\"][\"marks\"])  # 90\n",
    "\n",
    "17. Describe the time complexity of accessing elements in a dictionary.\n",
    "ANS - A Python dictionary is implemented using a hash table, which makes element access very fast.\n",
    "\n",
    "1. Access by Key\n",
    "my_dict = {\"name\": \"Alice\", \"age\": 25, \"city\": \"Delhi\"}\n",
    "print(my_dict[\"age\"])  # 25\n",
    "\n",
    "\n",
    "Python calculates the hash of the key \"age\".\n",
    "\n",
    "The hash points directly to the location in memory where the value is stored.\n",
    "\n",
    "This means accessing a value by its key is O(1) on average → constant time, no matter how large the dictionary is.\n",
    "\n",
    "18. In what situations are lists preferred over dictionaries?\n",
    "ANS - 1. Ordered Collections\n",
    "\n",
    "Lists maintain order of elements.\n",
    "\n",
    "Use lists when the sequence matters, like storing steps in a process or items in a queue.\n",
    "\n",
    "   2. Index-Based Access\n",
    "\n",
    "Lists allow direct access by index (list[0], list[1], etc.).\n",
    "\n",
    "Use lists when you need position-based access or iteration by index.\n",
    "\n",
    "19. Why are dictionaries considered unordered , and how does that affect data retrival?\n",
    "ANS - #Definition of Unordered\n",
    "\n",
    "Traditionally, a Python dictionary is unordered, meaning the order in which you add key–value pairs is not guaranteed to be preserved.\n",
    "\n",
    "Internally, dictionaries are implemented using a hash table, which stores keys based on their hash values, not the order of insertion.\n",
    "\n",
    " #Effect of Hashing\n",
    "\n",
    "Each key is hashed to determine where its value will be stored in memory.\n",
    "\n",
    "Because the hash function decides the storage location, the order of keys may appear random when iterating over the dictionary.\n",
    "\n",
    "    #How This Affects Data Retrieval\n",
    "\n",
    "Access by Key Is Still Fast\n",
    "\n",
    "Even though the dictionary is unordered, retrieving a value by its key is O(1) average time, because the hash function points directly to the value.\n",
    "\n",
    "print(my_dict[\"b\"])  # 2 → very fast lookup\n",
    "\n",
    "\n",
    "Iteration Order Is Not Guaranteed (Before 3.7)\n",
    "\n",
    "If your code relies on the order of keys, using a dictionary in older Python versions may lead to unexpected order.\n",
    "\n",
    "20. Explain the differnece between a list and a dictionary in terms of data retrieval.\n",
    "ANS - List: Retrieval is index-based, slower for searching by value, order matters.\n",
    "\n",
    "Dictionary: Retrieval is key-based, very fast (O(1)), no order needed.\n",
    "\n"
   ]
  },
  {
   "cell_type": "code",
   "execution_count": null,
   "id": "cad8e8ee-c693-46c5-8f1d-60bcb9539929",
   "metadata": {},
   "outputs": [],
   "source": [
    "# PRACTICAL QUESTIONS\n"
   ]
  },
  {
   "cell_type": "code",
   "execution_count": null,
   "id": "07f95f43-788f-48ea-aded-d19da655ebf3",
   "metadata": {},
   "outputs": [],
   "source": [
    "1. Write a code to crete a string with your name and print it."
   ]
  },
  {
   "cell_type": "code",
   "execution_count": 1,
   "id": "880d7f2d-dde3-4c8d-bf0c-021d6f2f3978",
   "metadata": {},
   "outputs": [
    {
     "name": "stdout",
     "output_type": "stream",
     "text": [
      "Rajvardhan verma\n"
     ]
    }
   ],
   "source": [
    "name = \"Rajvardhan verma\"\n",
    "print(name)"
   ]
  },
  {
   "cell_type": "code",
   "execution_count": null,
   "id": "2661739f-78af-4730-9ac7-388838c38880",
   "metadata": {},
   "outputs": [],
   "source": [
    "2. Write a code to find the length of the string \"Hello world\"."
   ]
  },
  {
   "cell_type": "code",
   "execution_count": 2,
   "id": "3b210d8f-9f9c-4247-b337-086cc636fd82",
   "metadata": {},
   "outputs": [
    {
     "name": "stdout",
     "output_type": "stream",
     "text": [
      "11\n"
     ]
    }
   ],
   "source": [
    "x = \"Hello world\"\n",
    "print(len(x))"
   ]
  },
  {
   "cell_type": "code",
   "execution_count": null,
   "id": "7a5294f8-c7ff-4e90-bef8-01411f3c9069",
   "metadata": {},
   "outputs": [],
   "source": [
    "3. write a code to slice the first 3 character from the string \"python programming\"."
   ]
  },
  {
   "cell_type": "code",
   "execution_count": 4,
   "id": "50b99dad-0cc1-4554-aca0-a732c20990b9",
   "metadata": {},
   "outputs": [
    {
     "name": "stdout",
     "output_type": "stream",
     "text": [
      "pyt\n"
     ]
    }
   ],
   "source": [
    "x = \"python programming\"\n",
    "slice_x = x[:3]\n",
    "print(slice_x)"
   ]
  },
  {
   "cell_type": "code",
   "execution_count": null,
   "id": "9225c4f0-8180-4299-ad7b-be97cf95695d",
   "metadata": {},
   "outputs": [],
   "source": [
    "4 . Write a code to convert the string \"hello\" to uppercase."
   ]
  },
  {
   "cell_type": "code",
   "execution_count": 5,
   "id": "d8f19dcb-63cd-4294-9d08-76bb07b964d1",
   "metadata": {},
   "outputs": [
    {
     "name": "stdout",
     "output_type": "stream",
     "text": [
      "HELLO\n"
     ]
    }
   ],
   "source": [
    "x = \"hello\"\n",
    "upper_x = x.upper()\n",
    "print(upper_x)"
   ]
  },
  {
   "cell_type": "code",
   "execution_count": null,
   "id": "a6b9b999-7ef8-4b81-af37-109f87c4ba81",
   "metadata": {},
   "outputs": [],
   "source": [
    "5. Write a code to replace the word \"apple\" with \"orange\" in the string \"I like apple\"."
   ]
  },
  {
   "cell_type": "code",
   "execution_count": 6,
   "id": "13af2ad2-64cd-4b67-b7b7-d6d961f0b6a4",
   "metadata": {},
   "outputs": [
    {
     "name": "stdout",
     "output_type": "stream",
     "text": [
      "I like orange\n"
     ]
    }
   ],
   "source": [
    "x = \"I like apple\"\n",
    "y = x.replace(\"apple\" , \"orange\")\n",
    "print(y)"
   ]
  },
  {
   "cell_type": "code",
   "execution_count": null,
   "id": "d4fea179-7dbe-41a9-9ecb-ae63129991aa",
   "metadata": {},
   "outputs": [],
   "source": [
    "6. Write a code to create a list with numbers 1 to 5 and print it."
   ]
  },
  {
   "cell_type": "code",
   "execution_count": 7,
   "id": "1273e2f1-933e-435d-87a5-4249aa04f881",
   "metadata": {},
   "outputs": [
    {
     "name": "stdout",
     "output_type": "stream",
     "text": [
      "[1, 2, 3, 4, 5, 6, 7]\n"
     ]
    }
   ],
   "source": [
    "x = [1,2,3,4,5,6,7]\n",
    "print(x)"
   ]
  },
  {
   "cell_type": "code",
   "execution_count": null,
   "id": "0c5a00fa-1187-47f3-99af-b9fde75b5c0f",
   "metadata": {},
   "outputs": [],
   "source": [
    "7. Write a code to append the number 10 to the list [1,2,3,4]."
   ]
  },
  {
   "cell_type": "code",
   "execution_count": 10,
   "id": "b0fd3f2b-5897-4c29-9b71-fe3039878a6c",
   "metadata": {},
   "outputs": [
    {
     "name": "stdout",
     "output_type": "stream",
     "text": [
      "[1, 2, 3, 4, 10]\n"
     ]
    }
   ],
   "source": [
    "numbers = [1,2,3,4]\n",
    "numbers.append(10)\n",
    "print(numbers)"
   ]
  },
  {
   "cell_type": "code",
   "execution_count": null,
   "id": "8ebac00c-61e0-47fd-a8e8-01cda059034f",
   "metadata": {},
   "outputs": [],
   "source": [
    "8. write a code to remove the number 3 from the list[1,2,3,4,5]."
   ]
  },
  {
   "cell_type": "code",
   "execution_count": 11,
   "id": "ee3aa888-1f7e-4582-8f93-eaf01a8c0ce8",
   "metadata": {},
   "outputs": [
    {
     "name": "stdout",
     "output_type": "stream",
     "text": [
      "[1, 2, 4, 5]\n"
     ]
    }
   ],
   "source": [
    "numbers = [1,2,3,4,5]\n",
    "numbers.remove(3)\n",
    "print(numbers)"
   ]
  },
  {
   "cell_type": "code",
   "execution_count": null,
   "id": "871c9176-b218-44e7-b5c3-57f4b2e79ccc",
   "metadata": {},
   "outputs": [],
   "source": [
    "9. write a code to access the second element in the list ['a','b','c','d']."
   ]
  },
  {
   "cell_type": "code",
   "execution_count": 14,
   "id": "fe7b2c3e-4a37-4e60-8947-ca4a78c3d1c3",
   "metadata": {},
   "outputs": [
    {
     "name": "stdout",
     "output_type": "stream",
     "text": [
      "b\n"
     ]
    }
   ],
   "source": [
    "letters = ['a','b','c','d']\n",
    "second_letter = letters[1]\n",
    "print(second_letter)\n",
    "    "
   ]
  },
  {
   "cell_type": "code",
   "execution_count": null,
   "id": "015a35a4-a7e4-4921-a65c-17bb270c1c4b",
   "metadata": {},
   "outputs": [],
   "source": [
    "10. Write a code to reverse the list [10,20,30,40].\n",
    "    "
   ]
  },
  {
   "cell_type": "code",
   "execution_count": 15,
   "id": "801c77d3-5cd6-4353-9c7a-c6cf76f8f4a4",
   "metadata": {},
   "outputs": [
    {
     "name": "stdout",
     "output_type": "stream",
     "text": [
      "[40, 30, 20, 10]\n"
     ]
    }
   ],
   "source": [
    "numbers = [10,20,30,40]\n",
    "numbers.reverse()\n",
    "print(numbers)"
   ]
  },
  {
   "cell_type": "code",
   "execution_count": null,
   "id": "8c74a787-1bd6-4401-812f-d98329a4b713",
   "metadata": {},
   "outputs": [],
   "source": [
    "11. Write a code to create a tuple with the elements 100,200,300 and print it."
   ]
  },
  {
   "cell_type": "code",
   "execution_count": 16,
   "id": "0cc92136-9a44-41e5-aa40-9ec57a84b389",
   "metadata": {},
   "outputs": [
    {
     "name": "stdout",
     "output_type": "stream",
     "text": [
      "(100, 200, 300)\n"
     ]
    }
   ],
   "source": [
    "x = (100,200,300)\n",
    "print(x)"
   ]
  },
  {
   "cell_type": "code",
   "execution_count": null,
   "id": "b6b52411-2508-4012-8f93-e9548edc76b5",
   "metadata": {},
   "outputs": [],
   "source": [
    "12. Write a code to access the second to last element of the tuple ('red','green','blue','yellow')."
   ]
  },
  {
   "cell_type": "code",
   "execution_count": 17,
   "id": "ed5f240b-deb9-485d-8192-30104e07d402",
   "metadata": {},
   "outputs": [
    {
     "name": "stdout",
     "output_type": "stream",
     "text": [
      "blue\n"
     ]
    }
   ],
   "source": [
    "colours = ('red','green','blue','yellow')\n",
    "second_last = colours[-2]\n",
    "print(second_last)"
   ]
  },
  {
   "cell_type": "code",
   "execution_count": null,
   "id": "3c43e657-1691-4623-a26a-f502fbc34125",
   "metadata": {},
   "outputs": [],
   "source": [
    "13. Write a code to find the minimum number in the tuple(10,20,5,15).\n",
    "    "
   ]
  },
  {
   "cell_type": "code",
   "execution_count": 20,
   "id": "5cde6961-9ba0-4855-8b7c-ad69ccf4b0b3",
   "metadata": {},
   "outputs": [
    {
     "name": "stdout",
     "output_type": "stream",
     "text": [
      "5\n"
     ]
    }
   ],
   "source": [
    "numbers = (10,20,5,15)\n",
    "min_num = min(numbers)\n",
    "print(min_num)"
   ]
  },
  {
   "cell_type": "code",
   "execution_count": null,
   "id": "b407b1be-d259-420f-b82f-fdbbc29c202e",
   "metadata": {},
   "outputs": [],
   "source": [
    "14. Write a code to find the index of the element \"cat\" in the tuple ('dog','cat','rabbit')."
   ]
  },
  {
   "cell_type": "code",
   "execution_count": 25,
   "id": "d7bc2cac-6640-469d-bfca-48d4c6b93e24",
   "metadata": {},
   "outputs": [
    {
     "name": "stdout",
     "output_type": "stream",
     "text": [
      "1\n"
     ]
    }
   ],
   "source": [
    "animals = ('dog','cat','rabbit')\n",
    "index = animals.index('cat')\n",
    "print(index)"
   ]
  },
  {
   "cell_type": "code",
   "execution_count": null,
   "id": "96be6f48-220c-4180-b491-ce4f4fa28171",
   "metadata": {},
   "outputs": [],
   "source": [
    "15. Write a code to create a tuple containing three different fruits and check if \"kiwi\" is in it."
   ]
  },
  {
   "cell_type": "code",
   "execution_count": 35,
   "id": "bcc987f8-f729-4243-841a-695982c02a7f",
   "metadata": {},
   "outputs": [
    {
     "name": "stdout",
     "output_type": "stream",
     "text": [
      "kiwi is present in the tuple\n"
     ]
    }
   ],
   "source": [
    "fruits = ('apple','kiwi','orange')\n",
    "if \"kiwi\" in fruits:\n",
    "     print(\"kiwi is present in the tuple\")\n",
    "else:\n",
    "     print(\"kiwi is not present in the tuple\")"
   ]
  },
  {
   "cell_type": "markdown",
   "id": "b6957a72-93b5-40d4-927a-33de74f92ff1",
   "metadata": {},
   "source": [
    "16. Write a code to create a set with the elements 'a','b','c' and print it."
   ]
  },
  {
   "cell_type": "code",
   "execution_count": 37,
   "id": "eeae1456-fdbe-471a-ac5a-1e6170102c37",
   "metadata": {},
   "outputs": [
    {
     "name": "stdout",
     "output_type": "stream",
     "text": [
      "{'b', 'c', 'a'}\n"
     ]
    }
   ],
   "source": [
    "x = {'a','b','c'}\n",
    "print(x)"
   ]
  },
  {
   "cell_type": "code",
   "execution_count": null,
   "id": "31155a6a-a434-42f5-afa4-e8a3f7aa2ab5",
   "metadata": {},
   "outputs": [],
   "source": [
    "17. Write a code to clear all the elements from the set {1,2,3,4,5}."
   ]
  },
  {
   "cell_type": "code",
   "execution_count": 38,
   "id": "5c4100ae-f9cd-46e0-8bc4-95bd32d1575f",
   "metadata": {},
   "outputs": [
    {
     "name": "stdout",
     "output_type": "stream",
     "text": [
      "set()\n"
     ]
    }
   ],
   "source": [
    "x = {1,2,3,4,5}\n",
    "x.clear()\n",
    "print(x)"
   ]
  },
  {
   "cell_type": "code",
   "execution_count": null,
   "id": "86eeb3f9-e513-481e-9977-d256acb98436",
   "metadata": {},
   "outputs": [],
   "source": [
    "18. Write a code to remove element 4 from the set {1,2,3,4}."
   ]
  },
  {
   "cell_type": "code",
   "execution_count": 5,
   "id": "628c1dc0-bc8e-4aee-a46e-c6e4694fe626",
   "metadata": {},
   "outputs": [
    {
     "name": "stdout",
     "output_type": "stream",
     "text": [
      "{1, 2, 3}\n"
     ]
    }
   ],
   "source": [
    "my_set = {1,2,3,4}\n",
    "my_set.remove(4)\n",
    "print(my_set)"
   ]
  },
  {
   "cell_type": "code",
   "execution_count": null,
   "id": "b84de4f3-0c7a-4022-83ac-23450fee1427",
   "metadata": {},
   "outputs": [],
   "source": [
    "19. Write a code to find the union of two sets{1,2,3} and {2,3,4}."
   ]
  },
  {
   "cell_type": "code",
   "execution_count": 7,
   "id": "dcc6b8ab-bce6-42bc-be25-d4d80425b578",
   "metadata": {},
   "outputs": [
    {
     "name": "stdout",
     "output_type": "stream",
     "text": [
      "{1, 2, 3, 4}\n"
     ]
    }
   ],
   "source": [
    "x = {1,2,3}\n",
    "y = {2,3,4}\n",
    "z = x.union(y)\n",
    "print(z)"
   ]
  },
  {
   "cell_type": "code",
   "execution_count": null,
   "id": "59d08d03-d3b2-471d-99e8-43823ba1393e",
   "metadata": {},
   "outputs": [],
   "source": [
    "20. Write a code to find the intersection of two sets {1,2,3} and {2,3,4}."
   ]
  },
  {
   "cell_type": "code",
   "execution_count": 8,
   "id": "c9495198-2689-4ef5-af4f-2375cff0307c",
   "metadata": {},
   "outputs": [
    {
     "name": "stdout",
     "output_type": "stream",
     "text": [
      "{2, 3}\n"
     ]
    }
   ],
   "source": [
    "x = {1,2,3}\n",
    "y = {2,3,4}\n",
    "z = x.intersection(y)\n",
    "print(z)"
   ]
  },
  {
   "cell_type": "code",
   "execution_count": null,
   "id": "bde461cf-6fb3-450c-b440-7d46fdb7e642",
   "metadata": {},
   "outputs": [],
   "source": [
    "21. Write a code to create a dictionary with the keys \"name\",\"age\",and \"city\", and print it."
   ]
  },
  {
   "cell_type": "code",
   "execution_count": 11,
   "id": "793e5eba-faf2-4c55-92b0-d762c4b8d358",
   "metadata": {},
   "outputs": [
    {
     "name": "stdout",
     "output_type": "stream",
     "text": [
      "{'name': 'Rajvardhan Verma', 'age': '24', 'city': 'Varanasi'}\n"
     ]
    }
   ],
   "source": [
    "my_dict = {\n",
    "    \"name\": \"Rajvardhan Verma\",\n",
    "    \"age\": \"24\",\n",
    "    \"city\": \"Varanasi\"\n",
    "}\n",
    "print(my_dict)"
   ]
  },
  {
   "cell_type": "code",
   "execution_count": null,
   "id": "69cab2d2-f6b7-486f-96a1-10be8922ffc0",
   "metadata": {},
   "outputs": [],
   "source": [
    "22. Write a code to add a new key value pair \"country\":\"USA\" to the dictionary {'name':'john','age':25}."
   ]
  },
  {
   "cell_type": "code",
   "execution_count": 12,
   "id": "16c3ea28-3432-4543-912a-d270002bf22e",
   "metadata": {},
   "outputs": [
    {
     "name": "stdout",
     "output_type": "stream",
     "text": [
      "{'name': 'john', 'age': 25, 'country': 'USA'}\n"
     ]
    }
   ],
   "source": [
    "my_dict = {'name':'john','age':25}\n",
    "my_dict[\"country\"] = \"USA\"\n",
    "print(my_dict)"
   ]
  },
  {
   "cell_type": "code",
   "execution_count": null,
   "id": "fe0cd82d-4721-486c-bf22-63e7869343b7",
   "metadata": {},
   "outputs": [],
   "source": [
    "23. Write a code to access the value associated with the key \"name\" in the dictionary {'name':'Alice','age':'30'}"
   ]
  },
  {
   "cell_type": "code",
   "execution_count": 18,
   "id": "7032b234-4962-46ef-bad0-921134f38c4f",
   "metadata": {},
   "outputs": [
    {
     "name": "stdout",
     "output_type": "stream",
     "text": [
      "value of the 'name': Alice\n"
     ]
    }
   ],
   "source": [
    "my_dict = {'name':'Alice','age':'30'}\n",
    "name_value = my_dict['name']\n",
    "print(\"value of the 'name':\" ,name_value)"
   ]
  },
  {
   "cell_type": "code",
   "execution_count": null,
   "id": "5b8a2136-0a96-4427-b1ca-8c594781cafc",
   "metadata": {},
   "outputs": [],
   "source": [
    "24. Write a code to remove the key \"age\" from the dictionary {'name':'Bob','age':22,'city':'newyork'}"
   ]
  },
  {
   "cell_type": "code",
   "execution_count": 21,
   "id": "602fc377-d8a1-4a6f-85b2-e64bd69b20ae",
   "metadata": {},
   "outputs": [
    {
     "name": "stdout",
     "output_type": "stream",
     "text": [
      "{'name': 'Bob', 'city': 'newyork'}\n"
     ]
    }
   ],
   "source": [
    "my_dict = {'name':'Bob','age':22,'city':'newyork'}\n",
    "my_dict.pop('age')\n",
    "print(my_dict)"
   ]
  },
  {
   "cell_type": "code",
   "execution_count": null,
   "id": "f20ab101-d95a-4f4a-901d-206f5e2719fe",
   "metadata": {},
   "outputs": [],
   "source": [
    "25. Write a code to check if the key \"city\" exists in the dictionary{'name':'Alice','city':'paris'}."
   ]
  },
  {
   "cell_type": "code",
   "execution_count": 22,
   "id": "e4f14d12-d0e7-41da-b2f6-3e5dca7681d9",
   "metadata": {},
   "outputs": [
    {
     "name": "stdout",
     "output_type": "stream",
     "text": [
      "true\n"
     ]
    }
   ],
   "source": [
    "my_dict = {'name':'Alice','city':'paris'}\n",
    "if \"city\" in my_dict: \n",
    "    print(\"true\")\n",
    "else:\n",
    "    print(\"false\")"
   ]
  },
  {
   "cell_type": "code",
   "execution_count": null,
   "id": "90cd52a2-3b04-468c-a1f7-ffe61c3aa793",
   "metadata": {},
   "outputs": [],
   "source": [
    "26. Write a code to create a list,a tuple, and a dictionary, and print them all."
   ]
  },
  {
   "cell_type": "code",
   "execution_count": 23,
   "id": "eebc1873-f880-40ce-a3fd-9663e4cbade1",
   "metadata": {},
   "outputs": [
    {
     "name": "stdout",
     "output_type": "stream",
     "text": [
      "List: [1, 2, 3, 4, 5]\n",
      "Tuple: (10, 20, 30, 40, 50)\n",
      "Dictionary: {'name': 'Alice', 'age': 25, 'city': 'New York'}\n"
     ]
    }
   ],
   "source": [
    "my_list = [1, 2, 3, 4, 5]\n",
    "my_tuple = (10, 20, 30, 40, 50)\n",
    "my_dict = {\"name\": \"Alice\", \"age\": 25, \"city\": \"New York\"}\n",
    "# Printing all\n",
    "print(\"List:\", my_list)\n",
    "print(\"Tuple:\", my_tuple)\n",
    "print(\"Dictionary:\", my_dict)"
   ]
  },
  {
   "cell_type": "code",
   "execution_count": null,
   "id": "c77fb649-9ce4-4ea1-b6b9-06aec2f3601a",
   "metadata": {},
   "outputs": [],
   "source": [
    "27. Write a code to create a list of 5 random numbers between 1 and 100 , sort it in ascending order and print the result."
   ]
  },
  {
   "cell_type": "code",
   "execution_count": 24,
   "id": "5619524b-8f21-481a-9a2b-21c215aaa727",
   "metadata": {},
   "outputs": [
    {
     "name": "stdout",
     "output_type": "stream",
     "text": [
      "Sorted list: [5, 15, 18, 31, 71]\n"
     ]
    }
   ],
   "source": [
    "import random\n",
    "\n",
    "# Create a list of 5 random numbers between 1 and 100\n",
    "random_numbers = [random.randint(1, 100) for _ in range(5)]\n",
    "\n",
    "# Sort the list in ascending order\n",
    "random_numbers.sort()\n",
    "\n",
    "# Print the sorted list\n",
    "print(\"Sorted list:\", random_numbers)"
   ]
  },
  {
   "cell_type": "code",
   "execution_count": null,
   "id": "ac70780b-c26b-484c-ba55-cee15a048d66",
   "metadata": {},
   "outputs": [],
   "source": [
    "28. Write a code to create a list with string and print the element at the third index."
   ]
  },
  {
   "cell_type": "code",
   "execution_count": 25,
   "id": "b4c27f7a-aa79-4371-b801-2c23b6de47c1",
   "metadata": {},
   "outputs": [
    {
     "name": "stdout",
     "output_type": "stream",
     "text": [
      "Element at index 3: date\n"
     ]
    }
   ],
   "source": [
    "my_list = [\"apple\", \"banana\", \"cherry\", \"date\", \"elderberry\"]\n",
    "\n",
    "# Print the element at the third index\n",
    "print(\"Element at index 3:\", my_list[3])"
   ]
  },
  {
   "cell_type": "code",
   "execution_count": null,
   "id": "fc6b313b-43cc-43eb-b744-582557bd74f4",
   "metadata": {},
   "outputs": [],
   "source": [
    "29. write a code to combine two dictionaries into one and print the result."
   ]
  },
  {
   "cell_type": "code",
   "execution_count": 26,
   "id": "4bce26e5-b33c-4778-97f5-c73b7f2117b1",
   "metadata": {},
   "outputs": [
    {
     "name": "stdout",
     "output_type": "stream",
     "text": [
      "Combined Dictionary: {'name': 'Alice', 'age': 25, 'city': 'New York', 'country': 'USA'}\n"
     ]
    }
   ],
   "source": [
    "dict1 = {\"name\": \"Alice\", \"age\": 25}\n",
    "dict2 = {\"city\": \"New York\", \"country\": \"USA\"}\n",
    "\n",
    "# Combine dictionaries\n",
    "combined_dict = {**dict1, **dict2}\n",
    "\n",
    "# Print the combined dictionary\n",
    "print(\"Combined Dictionary:\", combined_dict)"
   ]
  },
  {
   "cell_type": "code",
   "execution_count": null,
   "id": "63fda120-3afc-43d1-a991-5ec851c2ee91",
   "metadata": {},
   "outputs": [],
   "source": [
    "30. Write a code to convert a list of string into a set."
   ]
  },
  {
   "cell_type": "code",
   "execution_count": 27,
   "id": "d5ddd9e5-9efb-4795-a3a1-2d2df78f0e2a",
   "metadata": {},
   "outputs": [
    {
     "name": "stdout",
     "output_type": "stream",
     "text": [
      "Set: {'apple', 'banana', 'cherry'}\n"
     ]
    }
   ],
   "source": [
    "my_list = [\"apple\", \"banana\", \"cherry\", \"apple\", \"banana\"]\n",
    "my_set = set(my_list)\n",
    "print(\"Set:\", my_set)"
   ]
  },
  {
   "cell_type": "code",
   "execution_count": null,
   "id": "fc38c48a-f334-4dd9-b43e-6c8a836b6675",
   "metadata": {},
   "outputs": [],
   "source": []
  }
 ],
 "metadata": {
  "kernelspec": {
   "display_name": "Python 3 (ipykernel)",
   "language": "python",
   "name": "python3"
  },
  "language_info": {
   "codemirror_mode": {
    "name": "ipython",
    "version": 3
   },
   "file_extension": ".py",
   "mimetype": "text/x-python",
   "name": "python",
   "nbconvert_exporter": "python",
   "pygments_lexer": "ipython3",
   "version": "3.13.5"
  }
 },
 "nbformat": 4,
 "nbformat_minor": 5
}
